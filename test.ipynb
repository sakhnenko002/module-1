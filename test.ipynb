{
 "cells": [
  {
   "cell_type": "markdown",
   "metadata": {},
   "source": [
    "## Module 1"
   ]
  },
  {
   "cell_type": "code",
   "execution_count": 5,
   "metadata": {},
   "outputs": [],
   "source": [
    "from bert_topic_modeler import BERTTopicModeler\n"
   ]
  },
  {
   "cell_type": "code",
   "execution_count": 6,
   "metadata": {},
   "outputs": [
    {
     "name": "stdout",
     "output_type": "stream",
     "text": [
      "Кластери документів: [2 0 1 3]\n",
      "Мітки тем: {0: 'Der Klimawandel', 1: 'штучного', 2: 'emocji forma', 3: 'Machine'}\n",
      "Тема документа 'Wyścigi to dynamiczna i pełna emocji forma sportu.': emocji forma\n",
      "Тема документа 'Der Klimawandel beeinflusst das Wetter auf der ganzen Welt.': Der Klimawandel\n",
      "Тема документа 'Технології штучного інтелекту активно змінюють багато галузей.': штучного\n",
      "Тема документа 'Machine learning is an important part of today's innovation.': Machine\n"
     ]
    }
   ],
   "source": [
    "\n",
    "documents = [\n",
    "    \"Wyścigi to dynamiczna i pełna emocji forma sportu.\",\n",
    "    \"Der Klimawandel beeinflusst das Wetter auf der ganzen Welt.\",\n",
    "    \"Технології штучного інтелекту активно змінюють багато галузей.\",\n",
    "    \"Machine learning is an important part of today's innovation.\"\n",
    "]\n",
    "\n",
    "topic_modeler = BERTTopicModeler(num_topics=4)\n",
    "embeddings = topic_modeler.encode_texts(documents)\n",
    "topic_modeler.fit_cluster_model(embeddings, documents)\n",
    "\n",
    "\n",
    "clusters = topic_modeler.kmeans.labels_\n",
    "print(\"Кластери документів:\", clusters)\n",
    "print(\"Мітки тем:\", topic_modeler.topic_labels)\n",
    "\n",
    "\n",
    "for doc in documents:\n",
    "    topic = topic_modeler.predict_topic(doc)\n",
    "    print(f\"Тема документа '{doc}': {topic}\")\n"
   ]
  }
 ],
 "metadata": {
  "kernelspec": {
   "display_name": "Python 3",
   "language": "python",
   "name": "python3"
  },
  "language_info": {
   "codemirror_mode": {
    "name": "ipython",
    "version": 3
   },
   "file_extension": ".py",
   "mimetype": "text/x-python",
   "name": "python",
   "nbconvert_exporter": "python",
   "pygments_lexer": "ipython3",
   "version": "3.12.2"
  }
 },
 "nbformat": 4,
 "nbformat_minor": 2
}
